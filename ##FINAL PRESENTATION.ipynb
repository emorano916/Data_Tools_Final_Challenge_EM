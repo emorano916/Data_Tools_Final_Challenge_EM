{
 "cells": [
  {
   "cell_type": "code",
   "execution_count": 10,
   "metadata": {},
   "outputs": [
    {
     "data": {
      "application/vnd.jupyter.widget-view+json": {
       "model_id": "0ffacee09a3b44eea4843c1e6308685a",
       "version_major": 2,
       "version_minor": 0
      },
      "text/plain": [
       "HTML(value='<b style=\"font-size:20px\">Accepted Coordinates Types (Latitude, Longitude), Location Brugge downto…"
      ]
     },
     "metadata": {},
     "output_type": "display_data"
    },
    {
     "data": {
      "application/vnd.jupyter.widget-view+json": {
       "model_id": "9b07eab38a7b4fa8bb9409c53f9c5331",
       "version_major": 2,
       "version_minor": 0
      },
      "text/plain": [
       "HTML(value='<ul><li><i style=\"font-size:15px\"><b>DMS :</b> ex ; 51°12\\'33.653\"N, 3°13\"28.918\"E </i></li></ul>'…"
      ]
     },
     "metadata": {},
     "output_type": "display_data"
    },
    {
     "data": {
      "application/vnd.jupyter.widget-view+json": {
       "model_id": "7405ef26817942b8a8d15305c206e187",
       "version_major": 2,
       "version_minor": 0
      },
      "text/plain": [
       "HTML(value='<ul><li><i style=\"font-size:15px\"><b>WGS84 :</b> ex ; 51.209348, 3.2246995</i></li></ul>')"
      ]
     },
     "metadata": {},
     "output_type": "display_data"
    },
    {
     "data": {
      "application/vnd.jupyter.widget-view+json": {
       "model_id": "5b99ac617b9c430a942b4aed5a3615e3",
       "version_major": 2,
       "version_minor": 0
      },
      "text/plain": [
       "HTML(value='<ul><li><i style=\"font-size:15px\"><b>LAMBERT72 :</b> ex ; 211658.26, 70053.52</i></li></ul>')"
      ]
     },
     "metadata": {},
     "output_type": "display_data"
    },
    {
     "data": {
      "application/vnd.jupyter.widget-view+json": {
       "model_id": "04bfa3989b854fddb112092e89c2abdd",
       "version_major": 2,
       "version_minor": 0
      },
      "text/plain": [
       "interactive(children=(Text(value='', description='Coordinates'), IntSlider(value=40, description='BoundingBox'…"
      ]
     },
     "metadata": {},
     "output_type": "display_data"
    }
   ],
   "source": [
    "#This program ask for coordinates of Brugge downtown and return a 3D plot of the LIDAR DSM map\n",
    "%matplotlib widget\n",
    "import matplotlib.pyplot as plt\n",
    "from matplotlib import cm\n",
    "from matplotlib.colors import LightSource\n",
    "import numpy as np\n",
    "import rasterio as rs\n",
    "from rasterio.mask import mask\n",
    "from shapely.geometry import Polygon\n",
    "import pyproj\n",
    "import re\n",
    "import ipywidgets as widgets\n",
    "from IPython.display import display\n",
    "\n",
    "\n",
    "def main():\n",
    "    \n",
    "    #Set of the headers of the GUI with widgets\n",
    "    html = widgets.HTML(\n",
    "    value='<b style=\"font-size:20px\">Accepted Coordinates Types (Latitude, Longitude), Location Brugge downtown</b>',\n",
    "    description=''\n",
    ")\n",
    "    display(html)\n",
    "    \n",
    "    html2 = widgets.HTML(\n",
    "    value='''<ul><li><i style=\"font-size:15px\"><b>DMS :</b> ex ; 51°12'33.653\"N, 3°13\"28.918\"E </i></li></ul>''',\n",
    "    description=''\n",
    "        )\n",
    "    display(html2)\n",
    "    \n",
    "    \n",
    "    html3 = widgets.HTML(\n",
    "    value='''<ul><li><i style=\"font-size:15px\"><b>WGS84 :</b> ex ; 51.209348, 3.2246995</i></li></ul>''',\n",
    "    description=''\n",
    "        )\n",
    "    display(html3)\n",
    "    \n",
    "    html4 = widgets.HTML(\n",
    "    value='''<ul><li><i style=\"font-size:15px\"><b>LAMBERT72 :</b> ex ; 211658.26, 70053.52</i></li></ul>''',\n",
    "    description=''\n",
    "        )\n",
    "    display(html4)\n",
    "    \n",
    "    #Creation of interactive widgets\n",
    "    @widgets.interact_manual(Coodrinates='', \n",
    "        BoundingBox =(10,200,5), Color =['viridis', 'plasma', 'YlGn', 'cubehelix'] )\n",
    "    \n",
    "    #Creation of the plot function and setting of the widgets\n",
    "    def plot(Coordinates='',BoundingBox = 40, Color = 'viridis', grid=False):\n",
    "    \n",
    "        \n",
    "\n",
    "        #function that transform DMS coordinates to DD WSG84 coordinates\n",
    "        def dms2dd():\n",
    "            #Extraction of longitude / latitude\n",
    "            LON, LAT = map(str, Coordinates.split(''','''))\n",
    "\n",
    "            #extraction of figures with regex\n",
    "            degreesLON, minutesLON, secondsLON, directionLON = re.split('[°\\'\"]+', LON)\n",
    "            #Transfomation formula\n",
    "            ddLON = float(degreesLON) + float(minutesLON) / 60 + float(secondsLON) / (60 * 60);\n",
    "            #Negative transformation for west values\n",
    "            if directionLON in ('W'):\n",
    "                ddLON *= -1\n",
    "\n",
    "            # extraction of figure with regex\n",
    "            degreesLAT, minutesLAT, secondsLAT, directionLAT = re.split('[°\\'\"]+', LAT)\n",
    "            # Transfomation formula\n",
    "            ddLAT = float(degreesLAT) + float(minutesLAT) / 60 + float(secondsLAT) / (60 * 60);\n",
    "            # Negative transformation for south values\n",
    "            if directionLAT in ('S'):\n",
    "                ddLAT *= -1\n",
    "            #return of the result\n",
    "            return (ddLAT, ddLON)\n",
    "\n",
    "        #If there is E in the input, apply the function\n",
    "        if 'E' in Coordinates:\n",
    "            x1, y1 = dms2dd()\n",
    "        \n",
    "        #Else separate the float values\n",
    "        else:\n",
    "            y1, x1 = map(float, Coordinates.split(''','''))\n",
    "\n",
    "        #If the float are below 180° we are in WGS84 otherwise in Lambert72\n",
    "        if x1 < 180 and y1 < 180:\n",
    "            proj = pyproj.Transformer.from_crs(4326, 31370)\n",
    "            x1, y1 = proj.transform(y1, x1)\n",
    "\n",
    "   \n",
    "        # creation of the region of interest (roi) with polygon, a square\n",
    "        roi = Polygon([(x1 - int(BoundingBox / 2), y1 + int(BoundingBox / 2)),\n",
    "                   (x1 + int(BoundingBox / 2), y1 + int(BoundingBox / 2)),\n",
    "                   (x1 + int(BoundingBox / 2), y1 - int(BoundingBox / 2)),\n",
    "                   (x1 - int(BoundingBox / 2), y1 - int(BoundingBox / 2))])\n",
    "\n",
    "        # Opening of the file\n",
    "        fp = r'D:\\GitHub\\Data_Tools_Final_Challenge_EM\\DHMVIIDSMRAS1m_k13(1)\\GeoTIFF\\DHMVIIDSMRAS1m_k13.tif'\n",
    "        with rs.open(fp) as src:\n",
    "        \n",
    "        # Masking of the image\n",
    "            out_image, out_transform = rs.mask.mask(src, shapes=[roi], crop=True, filled=False)\n",
    "            out_meta = src.meta.copy()\n",
    "            out_meta.update({\"driver\": \"GTiff\",\n",
    "                         \"height\": out_image.shape[1],\n",
    "                         \"width\": out_image.shape[2],\n",
    "                         \"transform\": out_transform})\n",
    "        \n",
    "        # getting rid of the NAN value and change to numerical value\n",
    "        diff_surf = np.nan_to_num(out_image)\n",
    "\n",
    "        # Defining of x and y\n",
    "        temp_x = np.arange(diff_surf.shape[2])\n",
    "        temp_y = np.arange(diff_surf.shape[1])\n",
    "        Z_diff = diff_surf[0]\n",
    "        \n",
    "        # Fliping of y value\n",
    "        temp_y = np.flip(temp_y, 0)\n",
    "\n",
    "        # Creation of the meshgrid\n",
    "        X_diff, Y_diff = np.meshgrid(temp_x, temp_y)\n",
    "        \n",
    "        # Create light source object.\n",
    "        ls = LightSource(150, 50)\n",
    "        # Shade data, creating an rgb array.\n",
    "        rgb = ls.shade(Z_diff, cmap =cm.viridis)\n",
    "        \n",
    "        # Plot DSM \n",
    "        fig_dsm = plt.figure(figsize=(12, 6))\n",
    "        fig_dsm.canvas.toolbar_position = 'bottom'\n",
    "        stride=1\n",
    "        \n",
    "        #FIRST SUBPLOT\n",
    "        ax = fig_dsm.add_subplot(1,2,1, projection='3d')\n",
    "        # axis\n",
    "        ax.axis(grid)\n",
    "        #Plot\n",
    "        surf = ax.plot_surface(X_diff, Y_diff,Z_diff, rstride=stride, cstride=stride, linewidth=0.0, cmap=Color,  antialiased=False)\n",
    "        #view\n",
    "        ax.view_init(50, 250)\n",
    "        # limit of the Z height and plot of title\n",
    "        ax.set_zlim3d(0, 30)\n",
    "        #Colorbar\n",
    "        cbar = fig_dsm.colorbar(surf, shrink=0.6, aspect=8)\n",
    "        #colotrbar title\n",
    "        cbar.set_label(label='Height [M]', size='large', weight='bold', fontsize = 10)\n",
    "        \n",
    "        #FIRST SUBPLOT\n",
    "        ax = fig_dsm.add_subplot(1,2,2, projection='3d')\n",
    "        # axis off\n",
    "        ax.axis(grid)\n",
    "        #plot\n",
    "        surf = ax.plot_surface(X_diff, Y_diff,Z_diff, rstride=stride, cstride=stride, linewidth=0.0,facecolors = rgb,  antialiased=False)\n",
    "        #view\n",
    "        ax.view_init(70, 220)\n",
    "        # show the plot\n",
    "        #plt.title(\"Digital Surface Model of your coorindates : \" + Coordinates, 'left title')\n",
    "        fig_dsm.tight_layout()\n",
    "       \n",
    "    \n",
    "if __name__ == \"__main__\":\n",
    "    main()\n"
   ]
  },
  {
   "cell_type": "code",
   "execution_count": null,
   "metadata": {},
   "outputs": [],
   "source": []
  },
  {
   "cell_type": "code",
   "execution_count": null,
   "metadata": {},
   "outputs": [],
   "source": []
  },
  {
   "cell_type": "code",
   "execution_count": null,
   "metadata": {},
   "outputs": [],
   "source": []
  },
  {
   "cell_type": "code",
   "execution_count": null,
   "metadata": {},
   "outputs": [],
   "source": []
  }
 ],
 "metadata": {
  "kernelspec": {
   "display_name": "Python 3",
   "language": "python",
   "name": "python3"
  },
  "language_info": {
   "codemirror_mode": {
    "name": "ipython",
    "version": 3
   },
   "file_extension": ".py",
   "mimetype": "text/x-python",
   "name": "python",
   "nbconvert_exporter": "python",
   "pygments_lexer": "ipython3",
   "version": "3.9.0"
  }
 },
 "nbformat": 4,
 "nbformat_minor": 4
}
